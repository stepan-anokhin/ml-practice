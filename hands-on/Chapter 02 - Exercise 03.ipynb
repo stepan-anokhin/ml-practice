{
 "cells": [
  {
   "cell_type": "markdown",
   "id": "8877408a",
   "metadata": {},
   "source": [
    "# Titanic Dataset\n",
    "\n",
    "Predicts which passengers survived the Titanic shipwreck.\n",
    "\n",
    "### Overview\n",
    "\n",
    "The data has been split into two groups:\n",
    "* training set (train.csv)\n",
    "* test set (test.csv)\n",
    "\n",
    "The training set should be used to build your machine learning models. For the training set, we provide the outcome (also known as the “ground truth”) for each passenger. Your model will be based on “features” like passengers’ gender and class. You can also use feature engineering to create new features.\n",
    "\n",
    "The test set should be used to see how well your model performs on unseen data. For the test set, we do not provide the ground truth for each passenger. It is your job to predict these outcomes. For each passenger in the test set, use the model you trained to predict whether or not they survived the sinking of the Titanic.\n",
    "\n",
    "We also include gender_submission.csv, a set of predictions that assume all and only female passengers survive, as an example of what a submission file should look like.\n",
    "\n",
    "### Data Dictionary\n",
    "\n",
    "| Variable | Definition | Key |\n",
    "|----------|------------|-----|\n",
    "|survival | Survival | 0 = No, 1 = Yes | |\n",
    "|pclass | Ticket class | 1 = 1st, 2 = 2nd, 3 = 3rd |\n",
    "|sex | Sex |\n",
    "|Age | Age in years | |\n",
    "|sibsp | # of siblings / spouses aboard the Titanic | |\n",
    "|parch | # of parents / children aboard the Titanic | |\n",
    "|ticket | Ticket number | |\n",
    "|fare | Passenger fare | |\n",
    "|cabin | Cabin number | |\n",
    "|embarked | Port of Embarkation | C = Cherbourg, Q = Queenstown, S = Southampton |\n",
    "\n",
    "### Variable Notes\n",
    "\n",
    "**pclass**: A proxy for socio-economic status (SES)\n",
    "1st = Upper\n",
    "2nd = Middle\n",
    "3rd = Lower\n",
    "\n",
    "**age**: Age is fractional if less than 1. If the age is estimated, is it in the form of xx.5\n",
    "\n",
    "**sibsp**: The dataset defines family relations in this way...\n",
    "Sibling = brother, sister, stepbrother, stepsister\n",
    "Spouse = husband, wife (mistresses and fiancés were ignored)\n",
    "\n",
    "**parch**: The dataset defines family relations in this way...\n",
    "Parent = mother, father\n",
    "Child = daughter, son, stepdaughter, stepson\n",
    "Some children travelled only with a nanny, therefore parch=0 for them."
   ]
  },
  {
   "cell_type": "markdown",
   "id": "e1fae076",
   "metadata": {},
   "source": [
    "# Get the Data"
   ]
  },
  {
   "cell_type": "code",
   "execution_count": 1,
   "id": "94046ccf",
   "metadata": {},
   "outputs": [
    {
     "name": "stdout",
     "output_type": "stream",
     "text": [
      "titanic.zip: Skipping, found more recently modified local copy (use --force to force download)\n"
     ]
    }
   ],
   "source": [
    "import os\n",
    "import zipfile\n",
    "from typing import Optional, Tuple\n",
    "\n",
    "\n",
    "def unzip_file(zipfile_path: str, destination_dir:Optional[str] = None):\n",
    "    destination_dir = destination_dir or os.path.dirname(zipfile_path)\n",
    "    with zipfile.ZipFile(zipfile_path, 'r') as zip_ref:\n",
    "        zip_ref.extractall(destination_dir)\n",
    "\n",
    "        \n",
    "def download_competition(name:str, datasets_dir=\"./datasets/kaggle/\") -> str:\n",
    "    destination_dir = os.path.join(datasets_dir, name)\n",
    "    ret = os.system(f\"kaggle competitions download -p '{destination_dir}' -c {name}\")\n",
    "    return os.path.join(destination_dir, f\"{name}.zip\")\n",
    "\n",
    "def get_titanic_dataset() -> Tuple[str, str]:\n",
    "    zipfile_path = download_competition(\"titanic\")\n",
    "    unzip_file(zipfile_path)\n",
    "    directory = os.path.dirname(zipfile_path)\n",
    "    return os.path.join(directory, \"train.csv\"), os.path.join(directory, \"test.csv\")\n",
    "\n",
    "train_csv, test_csv = get_titanic_dataset()"
   ]
  },
  {
   "cell_type": "markdown",
   "id": "9850ec51",
   "metadata": {},
   "source": [
    "# Examine Data"
   ]
  },
  {
   "cell_type": "code",
   "execution_count": 2,
   "id": "bc4a79e2",
   "metadata": {},
   "outputs": [],
   "source": [
    "import pandas as pd\n",
    "import numpy as np\n",
    "\n",
    "titanic = pd.read_csv(train_csv)"
   ]
  },
  {
   "cell_type": "code",
   "execution_count": 3,
   "id": "3039b5aa",
   "metadata": {},
   "outputs": [
    {
     "data": {
      "text/html": [
       "<div>\n",
       "<style scoped>\n",
       "    .dataframe tbody tr th:only-of-type {\n",
       "        vertical-align: middle;\n",
       "    }\n",
       "\n",
       "    .dataframe tbody tr th {\n",
       "        vertical-align: top;\n",
       "    }\n",
       "\n",
       "    .dataframe thead th {\n",
       "        text-align: right;\n",
       "    }\n",
       "</style>\n",
       "<table border=\"1\" class=\"dataframe\">\n",
       "  <thead>\n",
       "    <tr style=\"text-align: right;\">\n",
       "      <th></th>\n",
       "      <th>PassengerId</th>\n",
       "      <th>Survived</th>\n",
       "      <th>Pclass</th>\n",
       "      <th>Name</th>\n",
       "      <th>Sex</th>\n",
       "      <th>Age</th>\n",
       "      <th>SibSp</th>\n",
       "      <th>Parch</th>\n",
       "      <th>Ticket</th>\n",
       "      <th>Fare</th>\n",
       "      <th>Cabin</th>\n",
       "      <th>Embarked</th>\n",
       "    </tr>\n",
       "  </thead>\n",
       "  <tbody>\n",
       "    <tr>\n",
       "      <th>0</th>\n",
       "      <td>1</td>\n",
       "      <td>0</td>\n",
       "      <td>3</td>\n",
       "      <td>Braund, Mr. Owen Harris</td>\n",
       "      <td>male</td>\n",
       "      <td>22.0</td>\n",
       "      <td>1</td>\n",
       "      <td>0</td>\n",
       "      <td>A/5 21171</td>\n",
       "      <td>7.2500</td>\n",
       "      <td>NaN</td>\n",
       "      <td>S</td>\n",
       "    </tr>\n",
       "    <tr>\n",
       "      <th>1</th>\n",
       "      <td>2</td>\n",
       "      <td>1</td>\n",
       "      <td>1</td>\n",
       "      <td>Cumings, Mrs. John Bradley (Florence Briggs Th...</td>\n",
       "      <td>female</td>\n",
       "      <td>38.0</td>\n",
       "      <td>1</td>\n",
       "      <td>0</td>\n",
       "      <td>PC 17599</td>\n",
       "      <td>71.2833</td>\n",
       "      <td>C85</td>\n",
       "      <td>C</td>\n",
       "    </tr>\n",
       "    <tr>\n",
       "      <th>2</th>\n",
       "      <td>3</td>\n",
       "      <td>1</td>\n",
       "      <td>3</td>\n",
       "      <td>Heikkinen, Miss. Laina</td>\n",
       "      <td>female</td>\n",
       "      <td>26.0</td>\n",
       "      <td>0</td>\n",
       "      <td>0</td>\n",
       "      <td>STON/O2. 3101282</td>\n",
       "      <td>7.9250</td>\n",
       "      <td>NaN</td>\n",
       "      <td>S</td>\n",
       "    </tr>\n",
       "    <tr>\n",
       "      <th>3</th>\n",
       "      <td>4</td>\n",
       "      <td>1</td>\n",
       "      <td>1</td>\n",
       "      <td>Futrelle, Mrs. Jacques Heath (Lily May Peel)</td>\n",
       "      <td>female</td>\n",
       "      <td>35.0</td>\n",
       "      <td>1</td>\n",
       "      <td>0</td>\n",
       "      <td>113803</td>\n",
       "      <td>53.1000</td>\n",
       "      <td>C123</td>\n",
       "      <td>S</td>\n",
       "    </tr>\n",
       "    <tr>\n",
       "      <th>4</th>\n",
       "      <td>5</td>\n",
       "      <td>0</td>\n",
       "      <td>3</td>\n",
       "      <td>Allen, Mr. William Henry</td>\n",
       "      <td>male</td>\n",
       "      <td>35.0</td>\n",
       "      <td>0</td>\n",
       "      <td>0</td>\n",
       "      <td>373450</td>\n",
       "      <td>8.0500</td>\n",
       "      <td>NaN</td>\n",
       "      <td>S</td>\n",
       "    </tr>\n",
       "  </tbody>\n",
       "</table>\n",
       "</div>"
      ],
      "text/plain": [
       "   PassengerId  Survived  Pclass  \\\n",
       "0            1         0       3   \n",
       "1            2         1       1   \n",
       "2            3         1       3   \n",
       "3            4         1       1   \n",
       "4            5         0       3   \n",
       "\n",
       "                                                Name     Sex   Age  SibSp  \\\n",
       "0                            Braund, Mr. Owen Harris    male  22.0      1   \n",
       "1  Cumings, Mrs. John Bradley (Florence Briggs Th...  female  38.0      1   \n",
       "2                             Heikkinen, Miss. Laina  female  26.0      0   \n",
       "3       Futrelle, Mrs. Jacques Heath (Lily May Peel)  female  35.0      1   \n",
       "4                           Allen, Mr. William Henry    male  35.0      0   \n",
       "\n",
       "   Parch            Ticket     Fare Cabin Embarked  \n",
       "0      0         A/5 21171   7.2500   NaN        S  \n",
       "1      0          PC 17599  71.2833   C85        C  \n",
       "2      0  STON/O2. 3101282   7.9250   NaN        S  \n",
       "3      0            113803  53.1000  C123        S  \n",
       "4      0            373450   8.0500   NaN        S  "
      ]
     },
     "execution_count": 3,
     "metadata": {},
     "output_type": "execute_result"
    }
   ],
   "source": [
    "titanic.head()"
   ]
  },
  {
   "cell_type": "code",
   "execution_count": 4,
   "id": "93608b58",
   "metadata": {},
   "outputs": [
    {
     "name": "stdout",
     "output_type": "stream",
     "text": [
      "<class 'pandas.core.frame.DataFrame'>\n",
      "RangeIndex: 891 entries, 0 to 890\n",
      "Data columns (total 12 columns):\n",
      " #   Column       Non-Null Count  Dtype  \n",
      "---  ------       --------------  -----  \n",
      " 0   PassengerId  891 non-null    int64  \n",
      " 1   Survived     891 non-null    int64  \n",
      " 2   Pclass       891 non-null    int64  \n",
      " 3   Name         891 non-null    object \n",
      " 4   Sex          891 non-null    object \n",
      " 5   Age          714 non-null    float64\n",
      " 6   SibSp        891 non-null    int64  \n",
      " 7   Parch        891 non-null    int64  \n",
      " 8   Ticket       891 non-null    object \n",
      " 9   Fare         891 non-null    float64\n",
      " 10  Cabin        204 non-null    object \n",
      " 11  Embarked     889 non-null    object \n",
      "dtypes: float64(2), int64(5), object(5)\n",
      "memory usage: 83.7+ KB\n"
     ]
    }
   ],
   "source": [
    "titanic.info()"
   ]
  },
  {
   "cell_type": "markdown",
   "id": "1e28ecff",
   "metadata": {},
   "source": [
    "**NOTE** `Age`, `Cabin` and `Embarked` columns are incomplete!"
   ]
  },
  {
   "cell_type": "code",
   "execution_count": 5,
   "id": "fde644c0",
   "metadata": {},
   "outputs": [
    {
     "data": {
      "text/html": [
       "<div>\n",
       "<style scoped>\n",
       "    .dataframe tbody tr th:only-of-type {\n",
       "        vertical-align: middle;\n",
       "    }\n",
       "\n",
       "    .dataframe tbody tr th {\n",
       "        vertical-align: top;\n",
       "    }\n",
       "\n",
       "    .dataframe thead th {\n",
       "        text-align: right;\n",
       "    }\n",
       "</style>\n",
       "<table border=\"1\" class=\"dataframe\">\n",
       "  <thead>\n",
       "    <tr style=\"text-align: right;\">\n",
       "      <th></th>\n",
       "      <th>PassengerId</th>\n",
       "      <th>Survived</th>\n",
       "      <th>Pclass</th>\n",
       "      <th>Age</th>\n",
       "      <th>SibSp</th>\n",
       "      <th>Parch</th>\n",
       "      <th>Fare</th>\n",
       "    </tr>\n",
       "  </thead>\n",
       "  <tbody>\n",
       "    <tr>\n",
       "      <th>count</th>\n",
       "      <td>891.000000</td>\n",
       "      <td>891.000000</td>\n",
       "      <td>891.000000</td>\n",
       "      <td>714.000000</td>\n",
       "      <td>891.000000</td>\n",
       "      <td>891.000000</td>\n",
       "      <td>891.000000</td>\n",
       "    </tr>\n",
       "    <tr>\n",
       "      <th>mean</th>\n",
       "      <td>446.000000</td>\n",
       "      <td>0.383838</td>\n",
       "      <td>2.308642</td>\n",
       "      <td>29.699118</td>\n",
       "      <td>0.523008</td>\n",
       "      <td>0.381594</td>\n",
       "      <td>32.204208</td>\n",
       "    </tr>\n",
       "    <tr>\n",
       "      <th>std</th>\n",
       "      <td>257.353842</td>\n",
       "      <td>0.486592</td>\n",
       "      <td>0.836071</td>\n",
       "      <td>14.526497</td>\n",
       "      <td>1.102743</td>\n",
       "      <td>0.806057</td>\n",
       "      <td>49.693429</td>\n",
       "    </tr>\n",
       "    <tr>\n",
       "      <th>min</th>\n",
       "      <td>1.000000</td>\n",
       "      <td>0.000000</td>\n",
       "      <td>1.000000</td>\n",
       "      <td>0.420000</td>\n",
       "      <td>0.000000</td>\n",
       "      <td>0.000000</td>\n",
       "      <td>0.000000</td>\n",
       "    </tr>\n",
       "    <tr>\n",
       "      <th>25%</th>\n",
       "      <td>223.500000</td>\n",
       "      <td>0.000000</td>\n",
       "      <td>2.000000</td>\n",
       "      <td>20.125000</td>\n",
       "      <td>0.000000</td>\n",
       "      <td>0.000000</td>\n",
       "      <td>7.910400</td>\n",
       "    </tr>\n",
       "    <tr>\n",
       "      <th>50%</th>\n",
       "      <td>446.000000</td>\n",
       "      <td>0.000000</td>\n",
       "      <td>3.000000</td>\n",
       "      <td>28.000000</td>\n",
       "      <td>0.000000</td>\n",
       "      <td>0.000000</td>\n",
       "      <td>14.454200</td>\n",
       "    </tr>\n",
       "    <tr>\n",
       "      <th>75%</th>\n",
       "      <td>668.500000</td>\n",
       "      <td>1.000000</td>\n",
       "      <td>3.000000</td>\n",
       "      <td>38.000000</td>\n",
       "      <td>1.000000</td>\n",
       "      <td>0.000000</td>\n",
       "      <td>31.000000</td>\n",
       "    </tr>\n",
       "    <tr>\n",
       "      <th>max</th>\n",
       "      <td>891.000000</td>\n",
       "      <td>1.000000</td>\n",
       "      <td>3.000000</td>\n",
       "      <td>80.000000</td>\n",
       "      <td>8.000000</td>\n",
       "      <td>6.000000</td>\n",
       "      <td>512.329200</td>\n",
       "    </tr>\n",
       "  </tbody>\n",
       "</table>\n",
       "</div>"
      ],
      "text/plain": [
       "       PassengerId    Survived      Pclass         Age       SibSp  \\\n",
       "count   891.000000  891.000000  891.000000  714.000000  891.000000   \n",
       "mean    446.000000    0.383838    2.308642   29.699118    0.523008   \n",
       "std     257.353842    0.486592    0.836071   14.526497    1.102743   \n",
       "min       1.000000    0.000000    1.000000    0.420000    0.000000   \n",
       "25%     223.500000    0.000000    2.000000   20.125000    0.000000   \n",
       "50%     446.000000    0.000000    3.000000   28.000000    0.000000   \n",
       "75%     668.500000    1.000000    3.000000   38.000000    1.000000   \n",
       "max     891.000000    1.000000    3.000000   80.000000    8.000000   \n",
       "\n",
       "            Parch        Fare  \n",
       "count  891.000000  891.000000  \n",
       "mean     0.381594   32.204208  \n",
       "std      0.806057   49.693429  \n",
       "min      0.000000    0.000000  \n",
       "25%      0.000000    7.910400  \n",
       "50%      0.000000   14.454200  \n",
       "75%      0.000000   31.000000  \n",
       "max      6.000000  512.329200  "
      ]
     },
     "execution_count": 5,
     "metadata": {},
     "output_type": "execute_result"
    }
   ],
   "source": [
    "titanic.describe()"
   ]
  },
  {
   "cell_type": "code",
   "execution_count": 6,
   "id": "42693529",
   "metadata": {},
   "outputs": [
    {
     "data": {
      "image/png": "[encoded data removed]",
      "text/plain": [
       "<Figure size 720x720 with 9 Axes>"
      ]
     },
     "metadata": {
      "needs_background": "light"
     },
     "output_type": "display_data"
    }
   ],
   "source": [
    "import matplotlib.pyplot as plt\n",
    "\n",
    "plots = titanic.hist(figsize=(10, 10))"
   ]
  },
  {
   "cell_type": "markdown",
   "id": "655ed995",
   "metadata": {},
   "source": [
    "### Examine Fare vs Survival"
   ]
  },
  {
   "cell_type": "code",
   "execution_count": 7,
   "id": "5bd8f077",
   "metadata": {},
   "outputs": [
    {
     "data": {
      "text/plain": [
       "count    342.000000\n",
       "mean      48.395408\n",
       "std       66.596998\n",
       "min        0.000000\n",
       "25%       12.475000\n",
       "50%       26.000000\n",
       "75%       57.000000\n",
       "max      512.329200\n",
       "Name: Fare, dtype: float64"
      ]
     },
     "execution_count": 7,
     "metadata": {},
     "output_type": "execute_result"
    }
   ],
   "source": [
    "titanic[titanic[\"Survived\"] == 1][\"Fare\"].describe()"
   ]
  },
  {
   "cell_type": "code",
   "execution_count": 8,
   "id": "e5ffcab8",
   "metadata": {},
   "outputs": [
    {
     "data": {
      "text/plain": [
       "count    549.000000\n",
       "mean      22.117887\n",
       "std       31.388207\n",
       "min        0.000000\n",
       "25%        7.854200\n",
       "50%       10.500000\n",
       "75%       26.000000\n",
       "max      263.000000\n",
       "Name: Fare, dtype: float64"
      ]
     },
     "execution_count": 8,
     "metadata": {},
     "output_type": "execute_result"
    }
   ],
   "source": [
    "titanic[titanic[\"Survived\"] == 0][\"Fare\"].describe()"
   ]
  },
  {
   "cell_type": "markdown",
   "id": "71a3b339",
   "metadata": {},
   "source": [
    "**NOTE** Fare has an influence on survival (mean = 48 for survived vs 22 for not-survived)."
   ]
  },
  {
   "cell_type": "markdown",
   "id": "501ed7e3",
   "metadata": {},
   "source": [
    "### Examin Sex vs Survival"
   ]
  },
  {
   "cell_type": "code",
   "execution_count": 9,
   "id": "fa67347a",
   "metadata": {},
   "outputs": [
    {
     "data": {
      "text/plain": [
       "0    468\n",
       "1    109\n",
       "Name: Survived, dtype: int64"
      ]
     },
     "execution_count": 9,
     "metadata": {},
     "output_type": "execute_result"
    }
   ],
   "source": [
    "titanic[titanic[\"Sex\"] == \"male\"][\"Survived\"].value_counts()"
   ]
  },
  {
   "cell_type": "code",
   "execution_count": 10,
   "id": "8a0fb670",
   "metadata": {},
   "outputs": [
    {
     "data": {
      "text/plain": [
       "1    233\n",
       "0     81\n",
       "Name: Survived, dtype: int64"
      ]
     },
     "execution_count": 10,
     "metadata": {},
     "output_type": "execute_result"
    }
   ],
   "source": [
    "titanic[titanic[\"Sex\"] == \"female\"][\"Survived\"].value_counts()"
   ]
  },
  {
   "cell_type": "code",
   "execution_count": 11,
   "id": "a01af3af",
   "metadata": {},
   "outputs": [
    {
     "data": {
      "text/plain": [
       "male      577\n",
       "female    314\n",
       "Name: Sex, dtype: int64"
      ]
     },
     "execution_count": 11,
     "metadata": {},
     "output_type": "execute_result"
    }
   ],
   "source": [
    "titanic[\"Sex\"].value_counts()"
   ]
  },
  {
   "cell_type": "code",
   "execution_count": 12,
   "id": "5b9c23d5",
   "metadata": {},
   "outputs": [
    {
     "data": {
      "text/plain": [
       "female    233\n",
       "male      109\n",
       "Name: Sex, dtype: int64"
      ]
     },
     "execution_count": 12,
     "metadata": {},
     "output_type": "execute_result"
    }
   ],
   "source": [
    "titanic[titanic[\"Survived\"] == 1][\"Sex\"].value_counts()"
   ]
  },
  {
   "cell_type": "markdown",
   "id": "90c82293",
   "metadata": {},
   "source": [
    "**NOTE** 74% of women survived while only 18% of males do. 68% of survived are females!"
   ]
  },
  {
   "cell_type": "markdown",
   "id": "9961f0bb",
   "metadata": {},
   "source": [
    "### Examine Age vs Survival"
   ]
  },
  {
   "cell_type": "code",
   "execution_count": 13,
   "id": "bd826a7a",
   "metadata": {},
   "outputs": [
    {
     "data": {
      "text/plain": [
       "29.69911764705882"
      ]
     },
     "execution_count": 13,
     "metadata": {},
     "output_type": "execute_result"
    }
   ],
   "source": [
    "titanic[\"Age\"].mean()"
   ]
  },
  {
   "cell_type": "code",
   "execution_count": 14,
   "id": "837c397f",
   "metadata": {},
   "outputs": [
    {
     "data": {
      "text/plain": [
       "28.343689655172415"
      ]
     },
     "execution_count": 14,
     "metadata": {},
     "output_type": "execute_result"
    }
   ],
   "source": [
    "titanic[titanic[\"Survived\"] == 1][\"Age\"].mean()"
   ]
  },
  {
   "cell_type": "code",
   "execution_count": 15,
   "id": "972e10f4",
   "metadata": {},
   "outputs": [
    {
     "data": {
      "text/plain": [
       "<AxesSubplot:>"
      ]
     },
     "execution_count": 15,
     "metadata": {},
     "output_type": "execute_result"
    },
    {
     "data": {
      "image/png": "[encoded data removed]",
      "text/plain": [
       "<Figure size 432x288 with 1 Axes>"
      ]
     },
     "metadata": {
      "needs_background": "light"
     },
     "output_type": "display_data"
    }
   ],
   "source": [
    "titanic[titanic[\"Survived\"] == 1][\"Age\"].hist()"
   ]
  },
  {
   "cell_type": "code",
   "execution_count": 16,
   "id": "6c05665d",
   "metadata": {},
   "outputs": [
    {
     "data": {
      "text/plain": [
       "30.62617924528302"
      ]
     },
     "execution_count": 16,
     "metadata": {},
     "output_type": "execute_result"
    }
   ],
   "source": [
    "titanic[titanic[\"Survived\"] == 0][\"Age\"].mean()"
   ]
  },
  {
   "cell_type": "code",
   "execution_count": 17,
   "id": "50bd9173",
   "metadata": {},
   "outputs": [
    {
     "data": {
      "text/plain": [
       "<AxesSubplot:>"
      ]
     },
     "execution_count": 17,
     "metadata": {},
     "output_type": "execute_result"
    },
    {
     "data": {
      "image/png": "[encoded data removed]",
      "text/plain": [
       "<Figure size 432x288 with 1 Axes>"
      ]
     },
     "metadata": {
      "needs_background": "light"
     },
     "output_type": "display_data"
    }
   ],
   "source": [
    "titanic[titanic[\"Survived\"] == 0][\"Age\"].hist()"
   ]
  },
  {
   "cell_type": "markdown",
   "id": "126daf0e",
   "metadata": {},
   "source": [
    "**NOTE** Not such a big difference in a mean age (28 vs 29) but we can clearly see that yound children had a priority. "
   ]
  },
  {
   "cell_type": "code",
   "execution_count": 18,
   "id": "98c90322",
   "metadata": {},
   "outputs": [
    {
     "data": {
      "text/plain": [
       "array([[<AxesSubplot:title={'center':'Survived'}>]], dtype=object)"
      ]
     },
     "execution_count": 18,
     "metadata": {},
     "output_type": "execute_result"
    },
    {
     "data": {
      "image/png": "[encoded data removed]",
      "text/plain": [
       "<Figure size 432x288 with 1 Axes>"
      ]
     },
     "metadata": {
      "needs_background": "light"
     },
     "output_type": "display_data"
    }
   ],
   "source": [
    "titanic[titanic[\"Age\"] < 10].hist(\"Survived\", bins=2)"
   ]
  },
  {
   "cell_type": "code",
   "execution_count": 19,
   "id": "c56b832e",
   "metadata": {},
   "outputs": [
    {
     "data": {
      "text/plain": [
       "array([[<AxesSubplot:title={'center':'Survived'}>]], dtype=object)"
      ]
     },
     "execution_count": 19,
     "metadata": {},
     "output_type": "execute_result"
    },
    {
     "data": {
      "image/png": "[encoded data removed]",
      "text/plain": [
       "<Figure size 432x288 with 1 Axes>"
      ]
     },
     "metadata": {
      "needs_background": "light"
     },
     "output_type": "display_data"
    }
   ],
   "source": [
    "titanic[titanic[\"Age\"] > 10].hist(\"Survived\", bins=2)"
   ]
  },
  {
   "cell_type": "markdown",
   "id": "96ffcdee",
   "metadata": {},
   "source": [
    "# Prepare Data"
   ]
  },
  {
   "cell_type": "code",
   "execution_count": 20,
   "id": "acc475ae",
   "metadata": {},
   "outputs": [
    {
     "name": "stdout",
     "output_type": "stream",
     "text": [
      "<class 'pandas.core.frame.DataFrame'>\n",
      "RangeIndex: 891 entries, 0 to 890\n",
      "Data columns (total 11 columns):\n",
      " #   Column       Non-Null Count  Dtype  \n",
      "---  ------       --------------  -----  \n",
      " 0   PassengerId  891 non-null    int64  \n",
      " 1   Pclass       891 non-null    int64  \n",
      " 2   Name         891 non-null    object \n",
      " 3   Sex          891 non-null    object \n",
      " 4   Age          714 non-null    float64\n",
      " 5   SibSp        891 non-null    int64  \n",
      " 6   Parch        891 non-null    int64  \n",
      " 7   Ticket       891 non-null    object \n",
      " 8   Fare         891 non-null    float64\n",
      " 9   Cabin        204 non-null    object \n",
      " 10  Embarked     889 non-null    object \n",
      "dtypes: float64(2), int64(4), object(5)\n",
      "memory usage: 76.7+ KB\n"
     ]
    }
   ],
   "source": [
    "labels = titanic[\"Survived\"].copy()\n",
    "features = titanic.drop(\"Survived\", axis=1)\n",
    "\n",
    "features.info()"
   ]
  },
  {
   "cell_type": "code",
   "execution_count": 21,
   "id": "20ee1d6c",
   "metadata": {},
   "outputs": [
    {
     "data": {
      "text/plain": [
       "0             A/5 21171\n",
       "1              PC 17599\n",
       "2      STON/O2. 3101282\n",
       "3                113803\n",
       "4                373450\n",
       "             ...       \n",
       "886              211536\n",
       "887              112053\n",
       "888          W./C. 6607\n",
       "889              111369\n",
       "890              370376\n",
       "Name: Ticket, Length: 891, dtype: object"
      ]
     },
     "execution_count": 21,
     "metadata": {},
     "output_type": "execute_result"
    }
   ],
   "source": [
    "features[\"Ticket\"]"
   ]
  },
  {
   "cell_type": "code",
   "execution_count": 22,
   "id": "547df5f4",
   "metadata": {},
   "outputs": [],
   "source": [
    "from sklearn.base import BaseEstimator, TransformerMixin\n",
    "\n",
    "class TicketParser(BaseEstimator, TransformerMixin):\n",
    "    def __init__(self, parse:bool = True, add_type:bool = True):\n",
    "        self.parse = parse\n",
    "        self.add_type = add_type\n",
    "        \n",
    "    def fit(self, X, y=None):\n",
    "        return self\n",
    "    \n",
    "    def transform(self, X, y=None):\n",
    "        tickets = X[\"Ticket\"]\n",
    "        X = X.drop(\"Ticket\", axis=1)\n",
    "        X[\"TicketNum\"] = tickets.apply(self.parse_num)\n",
    "        if self.add_type:\n",
    "            X[\"TicketType\"] = tickets.apply(self.parse_type)\n",
    "        return X\n",
    "    \n",
    "    def split_ticket(self, ticket):\n",
    "        parts = ticket.rsplit(\" \", maxsplit=1)\n",
    "        if len(parts) == 1 and parts[0].isdigit():\n",
    "            return \"None\", parts[0]\n",
    "        elif len(parts) == 1:\n",
    "            return parts[0], \"\"\n",
    "        elif len(parts) == 2 and not parts[1].isdigit():\n",
    "            return ticket, \"\"\n",
    "        else:\n",
    "            return parts\n",
    "    \n",
    "    def parse_type(self, ticket):\n",
    "        ticket_type, _ = self.split_ticket(ticket)\n",
    "        return ticket_type.strip(\" .\") + \"-TT\"\n",
    "    \n",
    "    def parse_num(self, ticket):\n",
    "        _, num = self.split_ticket(ticket)\n",
    "        if num.isdigit():\n",
    "            return int(num)"
   ]
  },
  {
   "cell_type": "code",
   "execution_count": 23,
   "id": "4c8f1225",
   "metadata": {},
   "outputs": [],
   "source": [
    "class NameHandler(BaseEstimator, TransformerMixin):\n",
    "    def __init__(self, drop_names:bool = True):\n",
    "        self.drop_names = drop_names\n",
    "        \n",
    "    def fit(self, X, y=None):\n",
    "        return self\n",
    "    \n",
    "    def transform(self, X, y=None):\n",
    "        if self.drop_names:\n",
    "            return X.drop(\"Name\", axis=1)\n",
    "        return X"
   ]
  },
  {
   "cell_type": "code",
   "execution_count": 24,
   "id": "fa5dd4ba",
   "metadata": {},
   "outputs": [],
   "source": [
    "class FillNACat(BaseEstimator, TransformerMixin):\n",
    "    def __init__(self, attributes=[], prefix=\"Unknown-\"):\n",
    "        self.attributes=attributes\n",
    "        self.prefix=prefix\n",
    "    \n",
    "    def fit(self, X, y=None):\n",
    "        return self\n",
    "    \n",
    "    def transform(self, X, y=None):\n",
    "        if not self.attributes:\n",
    "            return X\n",
    "        X = X.copy()\n",
    "        for attr in self.attributes:\n",
    "            X[attr] = X[attr].fillna(self.prefix + attr)\n",
    "        return X"
   ]
  },
  {
   "cell_type": "code",
   "execution_count": 25,
   "id": "0ed706d9",
   "metadata": {},
   "outputs": [],
   "source": [
    "class DropAttrs(BaseEstimator, TransformerMixin):\n",
    "    def __init__(self, attributes=[]):\n",
    "        self.attributes=attributes\n",
    "    \n",
    "    def fit(self, X, y=None):\n",
    "        return self\n",
    "    \n",
    "    def transform(self, X, y=None):\n",
    "        if not self.attributes:\n",
    "            return X\n",
    "        X = X.copy()\n",
    "        for attr in self.attributes:\n",
    "            X = X.drop(attr, axis=1)\n",
    "        return X"
   ]
  },
  {
   "cell_type": "code",
   "execution_count": 26,
   "id": "3c89810f",
   "metadata": {},
   "outputs": [],
   "source": [
    "from sklearn.pipeline import Pipeline\n",
    "from sklearn.impute import SimpleImputer\n",
    "from sklearn.preprocessing import StandardScaler, OneHotEncoder\n",
    "from sklearn.compose import ColumnTransformer\n",
    "\n",
    "\n",
    "num_pipeline = Pipeline([\n",
    "    ('imputer', SimpleImputer(strategy=\"median\")),\n",
    "    ('std_scaler', StandardScaler()),\n",
    "])\n",
    "\n",
    "num_attrs = [\"Pclass\", \"Age\", \"SibSp\", \"Parch\", \"Fare\", \"TicketNum\"]\n",
    "cat_attrs = [\"Sex\"] #, \"Cabin\", \"Embarked\"] #, \"TicketType\"]\n",
    "\n",
    "full_pipeline = Pipeline([\n",
    "    (\"drop\", DropAttrs([\"PassengerId\", \"Embarked\", \"Cabin\", \"Name\"])),\n",
    "#     (\"name_handler\", NameHandler()),\n",
    "    (\"ticket_parser\", TicketParser(add_type=False)),\n",
    "#     (\"fill_na_cat\", FillNACat(attributes=[\"Cabin\", \"Embarked\"])),\n",
    "    (\"column\", ColumnTransformer([\n",
    "        (\"num\", num_pipeline, num_attrs),\n",
    "        (\"cat\", OneHotEncoder(), cat_attrs),\n",
    "    ])),\n",
    "])\n",
    "\n",
    "features = full_pipeline.fit_transform(features)\n",
    "labels = titanic[\"Survived\"]"
   ]
  },
  {
   "cell_type": "markdown",
   "id": "cd4e28d1",
   "metadata": {},
   "source": [
    "# Train Random Forest"
   ]
  },
  {
   "cell_type": "code",
   "execution_count": 27,
   "id": "0be81802",
   "metadata": {},
   "outputs": [],
   "source": [
    "from sklearn.metrics import precision_score, recall_score, f1_score\n",
    "from sklearn.model_selection import cross_val_predict\n",
    "from sklearn.ensemble import RandomForestClassifier\n",
    "\n",
    "forest_clf = RandomForestClassifier()\n",
    "forest_clf.fit(features, labels)\n",
    "labels_pred_forest = cross_val_predict(forest_clf, features, labels, cv=5)"
   ]
  },
  {
   "cell_type": "code",
   "execution_count": 28,
   "id": "3a3e6f06",
   "metadata": {},
   "outputs": [
    {
     "name": "stdout",
     "output_type": "stream",
     "text": [
      "0.778115501519757 0.810126582278481 0.7485380116959064\n"
     ]
    }
   ],
   "source": [
    "print(\n",
    "    f1_score(labels, labels_pred_forest), \n",
    "    precision_score(labels, labels_pred_forest), \n",
    "    recall_score(labels, labels_pred_forest),\n",
    ")"
   ]
  },
  {
   "cell_type": "code",
   "execution_count": 29,
   "id": "18d9c62f",
   "metadata": {},
   "outputs": [],
   "source": [
    "from sklearn.metrics import precision_recall_curve\n",
    "\n",
    "scores_forest = cross_val_predict(forest_clf, features, labels, cv=5, method=\"predict_proba\")[:, 1]"
   ]
  },
  {
   "cell_type": "code",
   "execution_count": 30,
   "id": "45aee895",
   "metadata": {
    "scrolled": false
   },
   "outputs": [
    {
     "data": {
      "image/png": "[encoded data removed]",
      "text/plain": [
       "<Figure size 800x800 with 1 Axes>"
      ]
     },
     "metadata": {
      "needs_background": "light"
     },
     "output_type": "display_data"
    }
   ],
   "source": [
    "precisions_forest, recalls_forest, thresholds_forest = precision_recall_curve(labels, scores_forest)\n",
    "\n",
    "def plot_precision_recall_curve(precisions, recalls, axes=None, label=None, color=\"r\"):\n",
    "    axes = axes or plt.figure(figsize=(10, 10), dpi=80).add_subplot(1, 1, 1)\n",
    "    axes.plot(recalls, precisions, color, label=label)\n",
    "    axes.grid(visible=True)\n",
    "    axes.set_xlabel(\"Recall\")\n",
    "    axes.set_ylabel(\"Precision\")\n",
    "    return axes\n",
    "\n",
    "axes = plot_precision_recall_curve(precisions_forest, recalls_forest)"
   ]
  },
  {
   "cell_type": "markdown",
   "id": "a7dd0d83",
   "metadata": {},
   "source": [
    "# Train SGD Classifier"
   ]
  },
  {
   "cell_type": "code",
   "execution_count": 31,
   "id": "b4c274c7",
   "metadata": {},
   "outputs": [],
   "source": [
    "from sklearn.linear_model import SGDClassifier\n",
    "\n",
    "sgd_clf = SGDClassifier(random_state=42)\n",
    "labels_pred_sgd = cross_val_predict(sgd_clf, features, labels, cv=5)\n",
    "scores_sgd = cross_val_predict(sgd_clf, features, labels, method=\"decision_function\")"
   ]
  },
  {
   "cell_type": "code",
   "execution_count": 32,
   "id": "a8586ffa",
   "metadata": {},
   "outputs": [
    {
     "name": "stdout",
     "output_type": "stream",
     "text": [
      "0.6867469879518072 0.7080745341614907 0.6666666666666666\n"
     ]
    }
   ],
   "source": [
    "print(\n",
    "    f1_score(labels, labels_pred_sgd), \n",
    "    precision_score(labels, labels_pred_sgd), \n",
    "    recall_score(labels, labels_pred_sgd),\n",
    ")"
   ]
  },
  {
   "cell_type": "code",
   "execution_count": 33,
   "id": "9465feff",
   "metadata": {
    "scrolled": false
   },
   "outputs": [
    {
     "data": {
      "text/plain": [
       "<matplotlib.legend.Legend at 0x7f4c68f707f0>"
      ]
     },
     "execution_count": 33,
     "metadata": {},
     "output_type": "execute_result"
    },
    {
     "data": {
      "image/png": "[encoded data removed]",
      "text/plain": [
       "<Figure size 800x800 with 1 Axes>"
      ]
     },
     "metadata": {
      "needs_background": "light"
     },
     "output_type": "display_data"
    }
   ],
   "source": [
    "precisions_sgd, recalls_sgd, thresholds_sgd = precision_recall_curve(labels, scores_sgd)\n",
    "axes = plt.figure(figsize=(10, 10), dpi=80).add_subplot(1, 1, 1)\n",
    "plot_precision_recall_curve(precisions_forest, recalls_forest, axes, label=\"Random Forest\", color=\"b\")\n",
    "plot_precision_recall_curve(precisions_sgd, recalls_sgd, axes, label=\"SGD Classifier\", color=\"r\")\n",
    "axes.legend()"
   ]
  },
  {
   "cell_type": "markdown",
   "id": "eb9f4340",
   "metadata": {},
   "source": [
    "# Train KNN Classifier"
   ]
  },
  {
   "cell_type": "code",
   "execution_count": 34,
   "id": "3f05427a",
   "metadata": {},
   "outputs": [],
   "source": [
    "from sklearn.neighbors import KNeighborsClassifier\n",
    "\n",
    "knn_clf = KNeighborsClassifier()\n",
    "labels_pred_knn = cross_val_predict(knn_clf, features, labels, cv=5)\n",
    "scores_knn = cross_val_predict(knn_clf, features, labels, cv=5, method=\"predict_proba\")[:, 1]"
   ]
  },
  {
   "cell_type": "code",
   "execution_count": 35,
   "id": "c0072548",
   "metadata": {},
   "outputs": [
    {
     "name": "stdout",
     "output_type": "stream",
     "text": [
      "0.7341389728096677 0.759375 0.7105263157894737\n"
     ]
    }
   ],
   "source": [
    "print(\n",
    "    f1_score(labels, labels_pred_knn), \n",
    "    precision_score(labels, labels_pred_knn), \n",
    "    recall_score(labels, labels_pred_knn),\n",
    ")"
   ]
  },
  {
   "cell_type": "code",
   "execution_count": 36,
   "id": "33a2ad6c",
   "metadata": {},
   "outputs": [
    {
     "data": {
      "text/plain": [
       "<matplotlib.legend.Legend at 0x7f4c68eece50>"
      ]
     },
     "execution_count": 36,
     "metadata": {},
     "output_type": "execute_result"
    },
    {
     "data": {
      "image/png": "[encoded data removed]",
      "text/plain": [
       "<Figure size 800x800 with 1 Axes>"
      ]
     },
     "metadata": {
      "needs_background": "light"
     },
     "output_type": "display_data"
    }
   ],
   "source": [
    "precisions_knn, recalls_knn, thresholds_knn = precision_recall_curve(labels, scores_knn)\n",
    "axes = plt.figure(figsize=(10, 10), dpi=80).add_subplot(1, 1, 1)\n",
    "plot_precision_recall_curve(precisions_forest, recalls_forest, axes, label=\"Random Forest\", color=\"b\")\n",
    "plot_precision_recall_curve(precisions_sgd, recalls_sgd, axes, label=\"SGD Classifier\", color=\"r\")\n",
    "plot_precision_recall_curve(precisions_knn, recalls_knn, axes, label=\"KNN Classifier\", color=\"k--\")\n",
    "axes.legend()"
   ]
  },
  {
   "cell_type": "code",
   "execution_count": 37,
   "id": "d4c382d4",
   "metadata": {},
   "outputs": [
    {
     "data": {
      "text/plain": [
       "0    549\n",
       "1    342\n",
       "Name: Survived, dtype: int64"
      ]
     },
     "execution_count": 37,
     "metadata": {},
     "output_type": "execute_result"
    }
   ],
   "source": [
    "counts = titanic[\"Survived\"].value_counts()\n",
    "survived = counts[1]\n",
    "died = counts[0]\n",
    "total = survived + died\n",
    "counts"
   ]
  },
  {
   "cell_type": "code",
   "execution_count": 38,
   "id": "f8c1e6bd",
   "metadata": {},
   "outputs": [
    {
     "name": "stdout",
     "output_type": "stream",
     "text": [
      "Random precision: 0.38383838383838376\n",
      "Random recall: 0.38383838383838376\n"
     ]
    }
   ],
   "source": [
    "p0 = float(survived)/total\n",
    "print(\"Random precision:\", p0*survived/(p0*total)) # = p0 \n",
    "print(\"Random recall:\", p0*survived/survived) # = p0"
   ]
  },
  {
   "cell_type": "markdown",
   "id": "a6fd8fcf",
   "metadata": {},
   "source": [
    "# Fine-Tune Model"
   ]
  },
  {
   "cell_type": "code",
   "execution_count": 45,
   "id": "ac51d16d",
   "metadata": {},
   "outputs": [
    {
     "data": {
      "text/plain": [
       "{'max_features': 2, 'n_estimators': 50}"
      ]
     },
     "execution_count": 45,
     "metadata": {},
     "output_type": "execute_result"
    }
   ],
   "source": [
    "from sklearn.model_selection import GridSearchCV\n",
    "\n",
    "params_grid = [\n",
    "    {'n_estimators': [3, 10, 30, 40, 45, 50, 55, 60], 'max_features': [2, 4, 6, 7, 8]},\n",
    "    {'bootstrap': [False], 'n_estimators': [3, 10], 'max_features': [2, 3, 4]},\n",
    "]\n",
    "\n",
    "forest_clf = RandomForestClassifier()\n",
    "\n",
    "grid_search = GridSearchCV(\n",
    "    forest_clf, \n",
    "    params_grid, \n",
    "    cv=5, \n",
    "    scoring=\"f1\", \n",
    "    return_train_score=True\n",
    ")\n",
    "\n",
    "grid_search.fit(features, labels)\n",
    "grid_search.best_params_"
   ]
  },
  {
   "cell_type": "code",
   "execution_count": 40,
   "id": "5d2a8ec5",
   "metadata": {},
   "outputs": [],
   "source": [
    "res_clf = grid_search.best_estimator_\n",
    "\n",
    "labels_pred_res = cross_val_predict(res_clf, features, labels, cv=5)\n",
    "scores_res = cross_val_predict(res_clf, features, labels, cv=5, method=\"predict_proba\")"
   ]
  },
  {
   "cell_type": "code",
   "execution_count": 41,
   "id": "cfa319d2",
   "metadata": {},
   "outputs": [
    {
     "name": "stdout",
     "output_type": "stream",
     "text": [
      "0.7831325301204819 0.8074534161490683 0.7602339181286549\n"
     ]
    }
   ],
   "source": [
    "print(\n",
    "    f1_score(labels, labels_pred_res), \n",
    "    precision_score(labels, labels_pred_res), \n",
    "    recall_score(labels, labels_pred_res),\n",
    ")"
   ]
  },
  {
   "cell_type": "code",
   "execution_count": 42,
   "id": "d3556a33",
   "metadata": {},
   "outputs": [
    {
     "data": {
      "text/plain": [
       "array([0, 0, 0, 0, 1, 0, 0, 0, 1, 0, 0, 0, 1, 0, 1, 1, 0, 0, 1, 0, 0, 1,\n",
       "       1, 0, 1, 0, 1, 0, 0, 0, 0, 0, 1, 1, 0, 1, 1, 0, 0, 0, 0, 0, 0, 1,\n",
       "       1, 0, 1, 0, 1, 1, 0, 0, 1, 1, 0, 0, 0, 0, 0, 1, 0, 0, 0, 1, 0, 1,\n",
       "       1, 0, 0, 1, 1, 0, 0, 0, 1, 1, 0, 1, 0, 1, 1, 0, 0, 0, 0, 0, 1, 1,\n",
       "       1, 1, 1, 0, 1, 0, 0, 0, 1, 0, 1, 0, 1, 0, 0, 0, 1, 0, 0, 0, 0, 0,\n",
       "       0, 1, 1, 1, 1, 0, 1, 1, 0, 1, 1, 0, 1, 0, 0, 1, 0, 1, 0, 0, 0, 0,\n",
       "       1, 1, 0, 0, 1, 0, 1, 0, 0, 1, 0, 0, 0, 0, 0, 0, 0, 0, 1, 0, 0, 0,\n",
       "       0, 0, 1, 1, 0, 1, 1, 1, 1, 0, 0, 1, 0, 0, 1, 0, 0, 1, 0, 1, 0, 1,\n",
       "       1, 0, 1, 1, 0, 0, 1, 0, 1, 0, 1, 0, 0, 0, 0, 0, 0, 0, 1, 0, 1, 1,\n",
       "       0, 1, 1, 1, 0, 1, 0, 0, 0, 0, 1, 0, 0, 0, 0, 1, 0, 0, 1, 0, 1, 0,\n",
       "       1, 0, 1, 0, 1, 1, 0, 1, 0, 0, 0, 1, 0, 0, 0, 0, 0, 0, 1, 1, 1, 1,\n",
       "       0, 0, 0, 0, 1, 0, 1, 0, 1, 0, 0, 0, 0, 0, 0, 0, 1, 0, 0, 0, 1, 1,\n",
       "       0, 0, 0, 0, 1, 0, 0, 0, 1, 1, 1, 1, 0, 0, 0, 0, 0, 1, 1, 1, 1, 0,\n",
       "       0, 0, 1, 0, 1, 0, 1, 0, 0, 0, 1, 0, 0, 0, 0, 0, 0, 0, 1, 1, 1, 1,\n",
       "       0, 0, 0, 0, 0, 0, 1, 1, 0, 0, 0, 0, 0, 1, 0, 0, 1, 0, 1, 0, 0, 0,\n",
       "       1, 1, 1, 0, 0, 0, 0, 0, 0, 1, 0, 0, 0, 1, 0, 1, 0, 0, 0, 1, 1, 0,\n",
       "       0, 0, 1, 0, 1, 0, 0, 1, 0, 1, 1, 0, 1, 0, 0, 1, 1, 0, 0, 1, 0, 0,\n",
       "       1, 1, 0, 0, 0, 0, 0, 0, 1, 1, 0, 1, 0, 0, 0, 0, 0, 1, 0, 0, 0, 1,\n",
       "       0, 1, 0, 0, 1, 0, 1, 0, 0, 0, 0, 0, 1, 1, 1, 1, 0, 0, 1, 0, 0, 0])"
      ]
     },
     "execution_count": 42,
     "metadata": {},
     "output_type": "execute_result"
    }
   ],
   "source": [
    "titanic_test = pd.read_csv(test_csv)\n",
    "features_test = full_pipeline.fit_transform(titanic_test)\n",
    "labels_test_pred = res_clf.predict(features_test)\n",
    "labels_test_pred"
   ]
  },
  {
   "cell_type": "code",
   "execution_count": 49,
   "id": "35fb7956",
   "metadata": {},
   "outputs": [
    {
     "data": {
      "text/html": [
       "<div>\n",
       "<style scoped>\n",
       "    .dataframe tbody tr th:only-of-type {\n",
       "        vertical-align: middle;\n",
       "    }\n",
       "\n",
       "    .dataframe tbody tr th {\n",
       "        vertical-align: top;\n",
       "    }\n",
       "\n",
       "    .dataframe thead th {\n",
       "        text-align: right;\n",
       "    }\n",
       "</style>\n",
       "<table border=\"1\" class=\"dataframe\">\n",
       "  <thead>\n",
       "    <tr style=\"text-align: right;\">\n",
       "      <th></th>\n",
       "      <th>PassengerId</th>\n",
       "      <th>Survived</th>\n",
       "    </tr>\n",
       "  </thead>\n",
       "  <tbody>\n",
       "    <tr>\n",
       "      <th>0</th>\n",
       "      <td>892</td>\n",
       "      <td>0</td>\n",
       "    </tr>\n",
       "    <tr>\n",
       "      <th>1</th>\n",
       "      <td>893</td>\n",
       "      <td>0</td>\n",
       "    </tr>\n",
       "    <tr>\n",
       "      <th>2</th>\n",
       "      <td>894</td>\n",
       "      <td>0</td>\n",
       "    </tr>\n",
       "    <tr>\n",
       "      <th>3</th>\n",
       "      <td>895</td>\n",
       "      <td>0</td>\n",
       "    </tr>\n",
       "    <tr>\n",
       "      <th>4</th>\n",
       "      <td>896</td>\n",
       "      <td>1</td>\n",
       "    </tr>\n",
       "    <tr>\n",
       "      <th>...</th>\n",
       "      <td>...</td>\n",
       "      <td>...</td>\n",
       "    </tr>\n",
       "    <tr>\n",
       "      <th>413</th>\n",
       "      <td>1305</td>\n",
       "      <td>0</td>\n",
       "    </tr>\n",
       "    <tr>\n",
       "      <th>414</th>\n",
       "      <td>1306</td>\n",
       "      <td>1</td>\n",
       "    </tr>\n",
       "    <tr>\n",
       "      <th>415</th>\n",
       "      <td>1307</td>\n",
       "      <td>0</td>\n",
       "    </tr>\n",
       "    <tr>\n",
       "      <th>416</th>\n",
       "      <td>1308</td>\n",
       "      <td>0</td>\n",
       "    </tr>\n",
       "    <tr>\n",
       "      <th>417</th>\n",
       "      <td>1309</td>\n",
       "      <td>0</td>\n",
       "    </tr>\n",
       "  </tbody>\n",
       "</table>\n",
       "<p>418 rows × 2 columns</p>\n",
       "</div>"
      ],
      "text/plain": [
       "     PassengerId  Survived\n",
       "0            892         0\n",
       "1            893         0\n",
       "2            894         0\n",
       "3            895         0\n",
       "4            896         1\n",
       "..           ...       ...\n",
       "413         1305         0\n",
       "414         1306         1\n",
       "415         1307         0\n",
       "416         1308         0\n",
       "417         1309         0\n",
       "\n",
       "[418 rows x 2 columns]"
      ]
     },
     "execution_count": 49,
     "metadata": {},
     "output_type": "execute_result"
    }
   ],
   "source": [
    "res = titanic_test[[\"PassengerId\"]].copy()\n",
    "res[\"Survived\"] = labels_test_pred\n",
    "res"
   ]
  },
  {
   "cell_type": "code",
   "execution_count": 51,
   "id": "289e0ce7",
   "metadata": {},
   "outputs": [],
   "source": [
    "res.to_csv(\"datasets/kaggle/titanic/result.csv\", index=False)"
   ]
  }
 ],
 "metadata": {
  "kernelspec": {
   "display_name": "Python 3 (ipykernel)",
   "language": "python",
   "name": "python3"
  },
  "language_info": {
   "codemirror_mode": {
    "name": "ipython",
    "version": 3
   },
   "file_extension": ".py",
   "mimetype": "text/x-python",
   "name": "python",
   "nbconvert_exporter": "python",
   "pygments_lexer": "ipython3",
   "version": "3.8.12"
  }
 },
 "nbformat": 4,
 "nbformat_minor": 5
}
